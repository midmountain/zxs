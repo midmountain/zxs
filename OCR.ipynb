{
 "cells": [
  {
   "cell_type": "code",
   "execution_count": 32,
   "metadata": {},
   "outputs": [],
   "source": [
    "im = Image.open('input/IMG_8940.JPG')\n",
    "#im = im.resize([900,300])\n",
    "im = np.array(im)\n",
    "im = np.array(np.dsplit(im,im.shape[-1]))\n",
    "im = np.squeeze(im, axis=3)\n",
    "im = im * 0.5\n",
    "im = denoise_tv_chambolle(im, weight=16)\n",
    "ch12 = im[1]+im[2]\n",
    "ch12 = (ch12-ch12.min())*255/(255-ch12.min())\n",
    "ret,ch12 = cv2.threshold(ch12,210,255,cv2.THRESH_BINARY)\n",
    "img = Image.fromarray(ch12.astype('uint8'))\n",
    "text = pytesseract.image_to_string(img, lang='couriernew', config='--psm 12 --oem 3')"
   ]
  },
  {
   "cell_type": "markdown",
   "metadata": {},
   "source": [
    "#Font directory: /usr/local/Cellar/tesseract/3.05.02/share/tessdata Filename: Courier.traineddata"
   ]
  },
  {
   "cell_type": "markdown",
   "metadata": {},
   "source": [
    "#run in console to install\n",
    "!/usr/bin/ruby -e \"$(curl -fsSL https://raw.githubusercontent.com/Homebrew/install/master/install)\"\n",
    "!brew install tesseract\n",
    "!pip install pytesseract\n",
    "!pip install opencv-python\n",
    "!pip install skimage"
   ]
  },
  {
   "cell_type": "code",
   "execution_count": 1,
   "metadata": {},
   "outputs": [
    {
     "name": "stdout",
     "output_type": "stream",
     "text": [
      "['11718836', '144011772085']\n",
      "input/WechatIMG25.jpeg\n",
      "['21150255', '144011772218']\n",
      "input/WechatIMG29.jpeg\n",
      "['04863036', '144011872085']\n",
      "input/31529804760_.pic.jpg\n",
      "['22313894']\n",
      "input/WechatIMG28.jpeg\n",
      "['08070735', '144011772082']\n",
      "input/WechatIMG24.jpeg\n",
      "['03255577', '144011774110']\n",
      "input/51529804761_.pic.jpg\n",
      "['11772218', '144011772218']\n",
      "input/WechatIMG23.jpeg\n",
      "['12554187', '144011772085']\n",
      "input/WechatIMG22.jpeg\n",
      "['03996726', '144011772359']\n",
      "input/61529804761_.pic.jpg\n",
      "['01845151', '144011772082']\n",
      "input/71529804761_.pic.jpg\n",
      "['30143697', '144011672082']\n",
      "input/41529804760_.pic.jpg\n",
      "['21342901', '144011772218']\n",
      "input/WechatIMG27.jpeg\n",
      "['01783570', '144011772082']\n",
      "input/WechatIMG26.jpeg\n"
     ]
    }
   ],
   "source": [
    "import cv2\n",
    "import numpy as np\n",
    "import scipy\n",
    "import scipy.misc\n",
    "import matplotlib.pyplot as plt\n",
    "from skimage.restoration import denoise_tv_chambolle\n",
    "from PIL import Image\n",
    "import pytesseract\n",
    "import glob\n",
    "import re\n",
    "import os\n",
    "in_files = glob.glob('input/*')\n",
    "for k in range(len(in_files)):\n",
    "    in_path = in_files[k]\n",
    "    _, in_fn = os.path.split(in_path)\n",
    "    output=[]\n",
    "    im = Image.open(in_path)\n",
    "    im = im.resize([900,600])\n",
    "    im = np.array(im)\n",
    "    im = np.array(np.dsplit(im,im.shape[-1]))\n",
    "    im = np.squeeze(im, axis=3)\n",
    "    im = im * 0.5\n",
    "    im = denoise_tv_chambolle(im, weight=2)\n",
    "    ch1 = (im[1]-im[1].min())*255/(255-im[1].min())\n",
    "    ch2 = (im[2]-im[2].min())*255/(255-im[2].min())\n",
    "    thres = [210,215,220,225,230,235]\n",
    "    found = []\n",
    "    for j in thres:\n",
    "        ret,thresimg = cv2.threshold(np.add(ch1,ch2),j,255,cv2.THRESH_BINARY)\n",
    "        img = Image.fromarray(thresimg.astype('uint8'))\n",
    "        text = pytesseract.image_to_string(img, lang='eng', config='--psm 12 --oem 3')\n",
    "        num=re.findall(r'\\d+', text)\n",
    "        for i in num:\n",
    "            if len(str(i))==8:\n",
    "                found.append(i)\n",
    "    if len(found)>=1:\n",
    "        most = max(set(found), key=found.count)\n",
    "        if found.count(most) == 1:\n",
    "            output.append(found[-1])\n",
    "        else:\n",
    "            output.append(most)\n",
    "    ch0 = im[0]*2\n",
    "    ch0 = (ch0-ch0.min())*255/(255-ch0.min())\n",
    "    thres = [120,140,160,170,180,190,200,210,220]\n",
    "    found = []\n",
    "    for j in thres:\n",
    "        ret,thresimg = cv2.threshold(ch0,j,255,cv2.THRESH_BINARY)\n",
    "        img = Image.fromarray(thresimg.astype('uint8'))\n",
    "        text = pytesseract.image_to_string(img, lang='courier', config='--psm 12 --oem 3')\n",
    "        num=re.findall(r'\\d+', text)\n",
    "        for i in num:\n",
    "            if len(str(i))==12:\n",
    "                if str(i)[0:3]=='144':\n",
    "                    found.append(i)\n",
    "    if len(found)>=1:\n",
    "        most = max(set(found), key=found.count)\n",
    "        if found.count(most) == 1:\n",
    "            output.append(found[-1])\n",
    "        else:\n",
    "            output.append(most)\n",
    "    print(output)\n",
    "    print(in_path)"
   ]
  },
  {
   "cell_type": "code",
   "execution_count": 4,
   "metadata": {},
   "outputs": [
    {
     "name": "stdout",
     "output_type": "stream",
     "text": [
      "Usage:\n",
      "  tesseract --help | --help-psm | --help-oem | --version\n",
      "  tesseract --list-langs [--tessdata-dir PATH]\n",
      "  tesseract --print-parameters [options...] [configfile...]\n",
      "  tesseract imagename|stdin outputbase|stdout [options...] [configfile...]\n",
      "\n",
      "OCR options:\n",
      "  --tessdata-dir PATH   Specify the location of tessdata path.\n",
      "  --user-words PATH     Specify the location of user words file.\n",
      "  --user-patterns PATH  Specify the location of user patterns file.\n",
      "  -l LANG[+LANG]        Specify language(s) used for OCR.\n",
      "  -c VAR=VALUE          Set value for config variables.\n",
      "                        Multiple -c arguments are allowed.\n",
      "  --psm NUM             Specify page segmentation mode.\n",
      "  --oem NUM             Specify OCR Engine mode.\n",
      "NOTE: These options must occur before any configfile.\n",
      "\n",
      "Page segmentation modes:\n",
      "  0    Orientation and script detection (OSD) only.\n",
      "  1    Automatic page segmentation with OSD.\n",
      "  2    Automatic page segmentation, but no OSD, or OCR.\n",
      "  3    Fully automatic page segmentation, but no OSD. (Default)\n",
      "  4    Assume a single column of text of variable sizes.\n",
      "  5    Assume a single uniform block of vertically aligned text.\n",
      "  6    Assume a single uniform block of text.\n",
      "  7    Treat the image as a single text line.\n",
      "  8    Treat the image as a single word.\n",
      "  9    Treat the image as a single word in a circle.\n",
      " 10    Treat the image as a single character.\n",
      " 11    Sparse text. Find as much text as possible in no particular order.\n",
      " 12    Sparse text with OSD.\n",
      " 13    Raw line. Treat the image as a single text line,\n",
      "\t\t\tbypassing hacks that are Tesseract-specific.\n",
      "OCR Engine modes:\n",
      "  0    Original Tesseract only.\n",
      "  1    Cube only.\n",
      "  2    Tesseract + cube.\n",
      "  3    Default, based on what is available.\n",
      "\n",
      "Single options:\n",
      "  -h, --help            Show this help message.\n",
      "  --help-psm            Show page segmentation modes.\n",
      "  --help-oem            Show OCR Engine modes.\n",
      "  -v, --version         Show version information.\n",
      "  --list-langs          List available languages for tesseract engine.\n",
      "  --print-parameters    Print tesseract parameters to stdout.\n"
     ]
    }
   ],
   "source": [
    "!tesseract"
   ]
  },
  {
   "cell_type": "code",
   "execution_count": 2,
   "metadata": {},
   "outputs": [],
   "source": [
    "import pytesseract"
   ]
  }
 ],
 "metadata": {
  "kernelspec": {
   "display_name": "Python 3",
   "language": "python",
   "name": "python3"
  },
  "language_info": {
   "codemirror_mode": {
    "name": "ipython",
    "version": 3
   },
   "file_extension": ".py",
   "mimetype": "text/x-python",
   "name": "python",
   "nbconvert_exporter": "python",
   "pygments_lexer": "ipython3",
   "version": "3.6.5"
  }
 },
 "nbformat": 4,
 "nbformat_minor": 2
}
